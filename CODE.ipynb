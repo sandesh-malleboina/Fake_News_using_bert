{
 "cells": [
  {
   "cell_type": "code",
   "execution_count": 1,
   "metadata": {
    "_cell_guid": "b1076dfc-b9ad-4769-8c92-a6c4dae69d19",
    "_uuid": "8f2839f25d086af736a60e9eeb907d3b93b6e0e5",
    "execution": {
     "iopub.execute_input": "2025-05-04T10:55:07.430755Z",
     "iopub.status.busy": "2025-05-04T10:55:07.430517Z",
     "iopub.status.idle": "2025-05-04T10:55:15.503534Z",
     "shell.execute_reply": "2025-05-04T10:55:15.502936Z",
     "shell.execute_reply.started": "2025-05-04T10:55:07.430737Z"
    }
   },
   "outputs": [
    {
     "name": "stderr",
     "output_type": "stream",
     "text": [
      "2025-05-04 10:55:12.727240: E external/local_xla/xla/stream_executor/cuda/cuda_fft.cc:477] Unable to register cuFFT factory: Attempting to register factory for plugin cuFFT when one has already been registered\n",
      "WARNING: All log messages before absl::InitializeLog() is called are written to STDERR\n",
      "E0000 00:00:1746356112.751654     233 cuda_dnn.cc:8310] Unable to register cuDNN factory: Attempting to register factory for plugin cuDNN when one has already been registered\n",
      "E0000 00:00:1746356112.758784     233 cuda_blas.cc:1418] Unable to register cuBLAS factory: Attempting to register factory for plugin cuBLAS when one has already been registered\n"
     ]
    }
   ],
   "source": [
    "import os\n",
    "import pandas as pd\n",
    "import torch\n",
    "import matplotlib.pyplot as plt\n",
    "import re\n",
    "from sklearn.model_selection import train_test_split\n",
    "from torch.utils.data import Dataset, DataLoader\n",
    "from transformers import BertTokenizer\n",
    "from transformers import BertForSequenceClassification, get_linear_schedule_with_warmup\n",
    "import torch.optim as optim\n",
    "import torch.nn.functional as F\n",
    "from sklearn.metrics import accuracy_score, precision_score, roc_auc_score, roc_curve\n",
    "import numpy as np\n",
    "from tqdm import tqdm"
   ]
  },
  {
   "cell_type": "code",
   "execution_count": 2,
   "metadata": {
    "execution": {
     "iopub.execute_input": "2025-05-04T10:55:15.505373Z",
     "iopub.status.busy": "2025-05-04T10:55:15.504764Z",
     "iopub.status.idle": "2025-05-04T10:55:17.465007Z",
     "shell.execute_reply": "2025-05-04T10:55:17.464172Z",
     "shell.execute_reply.started": "2025-05-04T10:55:15.505345Z"
    }
   },
   "outputs": [
    {
     "name": "stdout",
     "output_type": "stream",
     "text": [
      "df length before removing duplicates: 44898\n",
      "df length after removing duplicates: 39105\n"
     ]
    },
    {
     "data": {
      "text/html": [
       "<div>\n",
       "<style scoped>\n",
       "    .dataframe tbody tr th:only-of-type {\n",
       "        vertical-align: middle;\n",
       "    }\n",
       "\n",
       "    .dataframe tbody tr th {\n",
       "        vertical-align: top;\n",
       "    }\n",
       "\n",
       "    .dataframe thead th {\n",
       "        text-align: right;\n",
       "    }\n",
       "</style>\n",
       "<table border=\"1\" class=\"dataframe\">\n",
       "  <thead>\n",
       "    <tr style=\"text-align: right;\">\n",
       "      <th></th>\n",
       "      <th>title</th>\n",
       "      <th>text</th>\n",
       "      <th>label</th>\n",
       "    </tr>\n",
       "  </thead>\n",
       "  <tbody>\n",
       "    <tr>\n",
       "      <th>0</th>\n",
       "      <td>Ben Stein Calls Out 9th Circuit Court: Committ...</td>\n",
       "      <td>21st Century Wire says Ben Stein, reputable pr...</td>\n",
       "      <td>0</td>\n",
       "    </tr>\n",
       "    <tr>\n",
       "      <th>1</th>\n",
       "      <td>Trump drops Steve Bannon from National Securit...</td>\n",
       "      <td>WASHINGTON (Reuters) - U.S. President Donald T...</td>\n",
       "      <td>1</td>\n",
       "    </tr>\n",
       "    <tr>\n",
       "      <th>2</th>\n",
       "      <td>Puerto Rico expects U.S. to lift Jones Act shi...</td>\n",
       "      <td>(Reuters) - Puerto Rico Governor Ricardo Rosse...</td>\n",
       "      <td>1</td>\n",
       "    </tr>\n",
       "    <tr>\n",
       "      <th>3</th>\n",
       "      <td>OOPS: Trump Just Accidentally Confirmed He Le...</td>\n",
       "      <td>On Monday, Donald Trump once again embarrassed...</td>\n",
       "      <td>0</td>\n",
       "    </tr>\n",
       "    <tr>\n",
       "      <th>4</th>\n",
       "      <td>Donald Trump heads for Scotland to reopen a go...</td>\n",
       "      <td>GLASGOW, Scotland (Reuters) - Most U.S. presid...</td>\n",
       "      <td>1</td>\n",
       "    </tr>\n",
       "  </tbody>\n",
       "</table>\n",
       "</div>"
      ],
      "text/plain": [
       "                                               title  \\\n",
       "0  Ben Stein Calls Out 9th Circuit Court: Committ...   \n",
       "1  Trump drops Steve Bannon from National Securit...   \n",
       "2  Puerto Rico expects U.S. to lift Jones Act shi...   \n",
       "3   OOPS: Trump Just Accidentally Confirmed He Le...   \n",
       "4  Donald Trump heads for Scotland to reopen a go...   \n",
       "\n",
       "                                                text  label  \n",
       "0  21st Century Wire says Ben Stein, reputable pr...      0  \n",
       "1  WASHINGTON (Reuters) - U.S. President Donald T...      1  \n",
       "2  (Reuters) - Puerto Rico Governor Ricardo Rosse...      1  \n",
       "3  On Monday, Donald Trump once again embarrassed...      0  \n",
       "4  GLASGOW, Scotland (Reuters) - Most U.S. presid...      1  "
      ]
     },
     "execution_count": 2,
     "metadata": {},
     "output_type": "execute_result"
    }
   ],
   "source": [
    "fake = pd.read_csv('/kaggle/input/fake-news-detection/Fake.csv')[['title', 'text']].assign(label=0)\n",
    "real = pd.read_csv('/kaggle/input/fake-news-detection/True.csv')[['title', 'text']].assign(label=1)\n",
    "\n",
    "df   = pd.concat([fake, real]).sample(frac=1, random_state=42).reset_index(drop=True)\n",
    "\n",
    "# Check for exact duplicate rows\n",
    "duplicates = df[df.duplicated()]\n",
    "print(\"df length before removing duplicates:\",len(df))\n",
    "\n",
    "df = df.drop_duplicates().reset_index(drop=True)\n",
    "print(\"df length after removing duplicates:\",len(df))\n",
    "\n",
    "df.head(5)"
   ]
  },
  {
   "cell_type": "code",
   "execution_count": 3,
   "metadata": {
    "execution": {
     "iopub.execute_input": "2025-05-04T10:55:17.466302Z",
     "iopub.status.busy": "2025-05-04T10:55:17.466001Z",
     "iopub.status.idle": "2025-05-04T10:55:17.471004Z",
     "shell.execute_reply": "2025-05-04T10:55:17.470052Z",
     "shell.execute_reply.started": "2025-05-04T10:55:17.466275Z"
    }
   },
   "outputs": [
    {
     "name": "stdout",
     "output_type": "stream",
     "text": [
      "Using device: cuda\n"
     ]
    }
   ],
   "source": [
    "device = torch.device('cuda' if torch.cuda.is_available() else 'cpu')\n",
    "print(\"Using device:\", device)"
   ]
  },
  {
   "cell_type": "code",
   "execution_count": 4,
   "metadata": {
    "execution": {
     "iopub.execute_input": "2025-05-04T10:55:17.472990Z",
     "iopub.status.busy": "2025-05-04T10:55:17.472732Z",
     "iopub.status.idle": "2025-05-04T10:55:19.621325Z",
     "shell.execute_reply": "2025-05-04T10:55:19.620641Z",
     "shell.execute_reply.started": "2025-05-04T10:55:17.472972Z"
    }
   },
   "outputs": [
    {
     "data": {
      "image/png": "[encoded data removed]",
      "text/plain": [
       "<Figure size 1000x600 with 1 Axes>"
      ]
     },
     "metadata": {},
     "output_type": "display_data"
    }
   ],
   "source": [
    "\n",
    "# Calculate word count for each article\n",
    "df['word_count'] = (df['title'] + ' ' + df['text']).apply(lambda x: len(x.split()))\n",
    "\n",
    "# Filter for word count \n",
    "filtered_counts = df[df['word_count'] <= 2000]['word_count']\n",
    "\n",
    "# Plot histogram\n",
    "plt.figure(figsize=(10,6))\n",
    "plt.hist(filtered_counts, bins=1000, color='lightgreen', edgecolor='black')\n",
    "plt.xlabel('Number of Words (title + text)', fontsize=12)\n",
    "plt.ylabel('Number of Articles', fontsize=12)\n",
    "plt.title('Distribution of Article Lengths ', fontsize=14)\n",
    "plt.grid(True)\n",
    "plt.show()\n",
    "\n"
   ]
  },
  {
   "cell_type": "code",
   "execution_count": 5,
   "metadata": {
    "execution": {
     "iopub.execute_input": "2025-05-04T10:55:19.622784Z",
     "iopub.status.busy": "2025-05-04T10:55:19.622487Z",
     "iopub.status.idle": "2025-05-04T10:55:33.506193Z",
     "shell.execute_reply": "2025-05-04T10:55:33.505506Z",
     "shell.execute_reply.started": "2025-05-04T10:55:19.622759Z"
    }
   },
   "outputs": [
    {
     "name": "stdout",
     "output_type": "stream",
     "text": [
      "ORIGINAL TEXT\n",
      ": On Monday, Donald Trump once again embarrassed himself and his country by accidentally revealing the source of the extremely classified information he leaked to Russia earlier this month.While it was speculated that the source of the information was Israel, Trump made things crystal clear during a press conference with Prime Minister Benjamin Netanyahu. President Pussygrabber explained that he never   not once   said  Israel  during his conversation with the Russian recipients of the leaked information. Not a single time. Just so you understand I never mentioned the word or the name  Israel,  Trump said.  I never mentioned it during that conversation. They were all saying I did,  Trump said, gesturing to reporters.  So you had another story wrong. Never mentioned the word  Israel . He may not have said the word Israel,  but according to reports Israeli intelligence officials  were shouting at US counterparts  over the leaked information.Now, he accidentally-perhaps-on-purpose confirmed where it came from.Watch it happen below:President Trump says he  never mentioned the word Israel  in his Oval Office meeting with Russian officials https://t.co/84ZCW64hcE  CNN Politics (@CNNPolitics) May 22, 2017Featured image via screengrab\n",
      "\n",
      "CLEANED TEXT:\n",
      " On Monday, Donald Trump once again embarrassed himself and his country by accidentally revealing the source of the extremely classified information he leaked to Russia earlier this month.While it was speculated that the source of the information was Israel, Trump made things crystal clear during a press conference with Prime Minister Benjamin Netanyahu. President Pussygrabber explained that he never not once said Israel during his conversation with the Russian recipients of the leaked information. Not a single time. Just so you understand I never mentioned the word or the name Israel, Trump said. I never mentioned it during that conversation. They were all saying I did, Trump said, gesturing to reporters. So you had another story wrong. Never mentioned the word Israel . He may not have said the word Israel, but according to reports Israeli intelligence officials were shouting at US counterparts over the leaked information.Now, he accidentally-perhaps-on-purpose confirmed where it came from.Watch it happen below:President Trump says he never mentioned the word Israel in his Oval Office meeting with Russian officials CNN Politics () May 22, 2017Featured image via screengrab\n"
     ]
    }
   ],
   "source": [
    "def clean_text(text):\n",
    "    # Lowercase\n",
    "    # text = text.lower()   use if we are using uncased bert tokeniser\n",
    "    \n",
    "    # Remove URLs (http, https, www, t.co, bit.ly, etc.)\n",
    "    text = re.sub(r'http\\S+|www\\S+|https\\S+', '', text)\n",
    "    \n",
    "    # Remove @mentions and #hashtags (common in tweets)\n",
    "    text = re.sub(r'@\\w+|#\\w+', '', text)\n",
    "    \n",
    "    # Remove extra whitespace\n",
    "    text = re.sub(r'\\s+', ' ', text).strip()\n",
    "    \n",
    "    return text\n",
    "\n",
    "\n",
    "print(\"ORIGINAL TEXT\\n:\",df[\"text\"][3],end=\"\\n\\n\")\n",
    "print(\"CLEANED TEXT:\\n\",df[\"text\"].apply(clean_text)[3])\n",
    "\n",
    "\n",
    "df['content'] = (df['title'] + ' ' + df['text']).fillna('').apply(clean_text)\n",
    "\n",
    "X = df['content']\n",
    "y = df['label']\n",
    "X_train, X_test, y_train, y_test = train_test_split(\n",
    "    X, y, test_size=0.2, stratify=y, random_state=42\n",
    ")                                                          # first found that we had duplicates in the X\n",
    "                                                           # so we had overlap in x_train and test.thats why duplicates \n",
    "                                                           # are removed"
   ]
  },
  {
   "cell_type": "code",
   "execution_count": 6,
   "metadata": {
    "execution": {
     "iopub.execute_input": "2025-05-04T10:55:33.507218Z",
     "iopub.status.busy": "2025-05-04T10:55:33.506990Z",
     "iopub.status.idle": "2025-05-04T10:58:52.840969Z",
     "shell.execute_reply": "2025-05-04T10:58:52.840324Z",
     "shell.execute_reply.started": "2025-05-04T10:55:33.507201Z"
    }
   },
   "outputs": [],
   "source": [
    "tokenizer = BertTokenizer.from_pretrained('bert-base-cased')\n",
    "\n",
    "# Longformer (Cased, 4096 Tokens)\n",
    "# Model: allenai/longformer-base-4096\n",
    "# Input Limit: Up to 4096 tokens\n",
    "# Casing: Yes, it is case-sensitive (uses RoBERTa tokenizer which is cased)\n",
    "# Architecture: Efficient attention for long sequences\n",
    "# Best For: Long articles like news, research papers, legal docs   can be used but our size is mostly 512 tokens\n",
    "\n",
    "class NewsDataset(Dataset):\n",
    "    def __init__(self, texts, labels):\n",
    "        self.enc = tokenizer(\n",
    "            texts.tolist(),\n",
    "            max_length=512,\n",
    "            truncation=True,\n",
    "            padding='max_length'\n",
    "        )\n",
    "        self.labels = labels.tolist()\n",
    "\n",
    "    def __len__(self):\n",
    "        return len(self.labels)\n",
    "\n",
    "    def __getitem__(self, idx):\n",
    "        item = {k: torch.tensor(v[idx]) for k, v in self.enc.items()}\n",
    "        item['labels'] = torch.tensor(self.labels[idx])\n",
    "        return item\n",
    "\n",
    "train_ds = NewsDataset(X_train, y_train)\n",
    "test_ds  = NewsDataset(X_test,  y_test)\n",
    "\n",
    "# Use num_workers=0 to avoid CUDA in subprocesses, and pin_memory for faster host->device transfer\n",
    "train_loader = DataLoader(train_ds, batch_size=8, shuffle=True, num_workers=0, pin_memory=True)\n",
    "val_loader   = DataLoader(test_ds,  batch_size=8, shuffle=False, num_workers=0, pin_memory=True)"
   ]
  },
  {
   "cell_type": "code",
   "execution_count": 7,
   "metadata": {
    "execution": {
     "iopub.execute_input": "2025-05-04T10:58:52.841971Z",
     "iopub.status.busy": "2025-05-04T10:58:52.841751Z",
     "iopub.status.idle": "2025-05-04T10:58:53.405377Z",
     "shell.execute_reply": "2025-05-04T10:58:53.404791Z",
     "shell.execute_reply.started": "2025-05-04T10:58:52.841956Z"
    }
   },
   "outputs": [
    {
     "name": "stderr",
     "output_type": "stream",
     "text": [
      "Some weights of BertForSequenceClassification were not initialized from the model checkpoint at bert-base-cased and are newly initialized: ['classifier.bias', 'classifier.weight']\n",
      "You should probably TRAIN this model on a down-stream task to be able to use it for predictions and inference.\n"
     ]
    }
   ],
   "source": [
    "model = BertForSequenceClassification.from_pretrained(\n",
    "    'bert-base-cased',\n",
    "    num_labels=2\n",
    ").to(device)\n",
    "\n",
    "optimizer = optim.AdamW(model.parameters(), lr=2e-5, weight_decay=0.01)\n",
    "\n",
    "epochs = 3\n",
    "total_steps = len(train_loader) * epochs\n",
    "scheduler = get_linear_schedule_with_warmup(\n",
    "    optimizer,\n",
    "    num_warmup_steps=int(0.1 * total_steps),\n",
    "    num_training_steps=total_steps\n",
    ")"
   ]
  },
  {
   "cell_type": "code",
   "execution_count": 22,
   "metadata": {
    "execution": {
     "iopub.execute_input": "2025-05-04T13:42:02.654953Z",
     "iopub.status.busy": "2025-05-04T13:42:02.654631Z",
     "iopub.status.idle": "2025-05-04T13:42:02.709600Z",
     "shell.execute_reply": "2025-05-04T13:42:02.708898Z",
     "shell.execute_reply.started": "2025-05-04T13:42:02.654932Z"
    }
   },
   "outputs": [
    {
     "data": {
      "text/plain": [
       "==============================================================================================================\n",
       "Layer (type:depth-idx)                                       Output Shape              Param #\n",
       "==============================================================================================================\n",
       "BertForSequenceClassification                                [8, 2]                    --\n",
       "├─BertModel: 1-1                                             [8, 768]                  --\n",
       "│    └─BertEmbeddings: 2-1                                   [8, 512, 768]             --\n",
       "│    │    └─Embedding: 3-1                                   [8, 512, 768]             22,268,928\n",
       "│    │    └─Embedding: 3-2                                   [8, 512, 768]             1,536\n",
       "│    │    └─Embedding: 3-3                                   [1, 512, 768]             393,216\n",
       "│    │    └─LayerNorm: 3-4                                   [8, 512, 768]             1,536\n",
       "│    │    └─Dropout: 3-5                                     [8, 512, 768]             --\n",
       "│    └─BertEncoder: 2-2                                      [8, 512, 768]             --\n",
       "│    │    └─ModuleList: 3-6                                  --                        85,054,464\n",
       "│    └─BertPooler: 2-3                                       [8, 768]                  --\n",
       "│    │    └─Linear: 3-7                                      [8, 768]                  590,592\n",
       "│    │    └─Tanh: 3-8                                        [8, 768]                  --\n",
       "├─Dropout: 1-2                                               [8, 768]                  --\n",
       "├─Linear: 1-3                                                [8, 2]                    1,538\n",
       "==============================================================================================================\n",
       "Total params: 108,311,810\n",
       "Trainable params: 108,311,810\n",
       "Non-trainable params: 0\n",
       "Total mult-adds (Units.MEGABYTES): 863.74\n",
       "==============================================================================================================\n",
       "Input size (MB): 0.03\n",
       "Forward/backward pass size (MB): 3400.58\n",
       "Params size (MB): 433.25\n",
       "Estimated Total Size (MB): 3833.86\n",
       "=============================================================================================================="
      ]
     },
     "execution_count": 22,
     "metadata": {},
     "output_type": "execute_result"
    }
   ],
   "source": [
    "summary(model, input_size=(8, 512), dtypes=[torch.long])"
   ]
  },
  {
   "cell_type": "code",
   "execution_count": 8,
   "metadata": {
    "execution": {
     "iopub.execute_input": "2025-05-04T10:58:53.406436Z",
     "iopub.status.busy": "2025-05-04T10:58:53.406198Z",
     "iopub.status.idle": "2025-05-04T12:18:46.099813Z",
     "shell.execute_reply": "2025-05-04T12:18:46.098953Z",
     "shell.execute_reply.started": "2025-05-04T10:58:53.406418Z"
    }
   },
   "outputs": [
    {
     "name": "stdout",
     "output_type": "stream",
     "text": [
      "\n",
      " Epoch 1/3\n"
     ]
    },
    {
     "name": "stderr",
     "output_type": "stream",
     "text": [
      "                                                                             \r"
     ]
    },
    {
     "name": "stdout",
     "output_type": "stream",
     "text": [
      " Epoch 1 — Train Loss: 0.0370 | Val Acc: 0.9995, Prec: 0.9998, AUC: 1.0000, EER: 0.0003\n",
      " Model saved at epoch 1 to ./saved_model/model_epoch_1.bin\n",
      "\n",
      " Epoch 2/3\n"
     ]
    },
    {
     "name": "stderr",
     "output_type": "stream",
     "text": [
      "                                                                             "
     ]
    },
    {
     "name": "stdout",
     "output_type": "stream",
     "text": [
      " Epoch 2 — Train Loss: 0.0005 | Val Acc: 0.9997, Prec: 1.0000, AUC: 0.9998, EER: 0.0000\n",
      " No improvement. Patience: 1/1\n",
      " Early stopping triggered.\n"
     ]
    },
    {
     "name": "stderr",
     "output_type": "stream",
     "text": [
      "\r"
     ]
    }
   ],
   "source": [
    "\n",
    "# Save model function\n",
    "def save_model(model, epoch, output_dir='./saved_model'):\n",
    "    if not os.path.exists(output_dir):\n",
    "        os.makedirs(output_dir)\n",
    "    model_path = os.path.join(output_dir, f\"model_epoch_{epoch}.bin\")\n",
    "    torch.save(model.state_dict(), model_path)\n",
    "    print(f\" Model saved at epoch {epoch} to {model_path}\")\n",
    "\n",
    "# Early stopping settings\n",
    "early_stop_patience = 1   # stop if no improvement for 2 consecutive epochs\n",
    "best_auc = 0.0\n",
    "epochs_without_improve = 0\n",
    "\n",
    "# Training loop with early stopping\n",
    "for epoch in range(1, epochs + 1):\n",
    "    print(f\"\\n Epoch {epoch}/{epochs}\")\n",
    "    \n",
    "    model.train()\n",
    "    total_loss = 0.0\n",
    "\n",
    "    # Training with progress bar\n",
    "    train_loop = tqdm(train_loader, desc=' Training', leave=False)\n",
    "    for batch in train_loop:\n",
    "        batch = {k: v.to(device) for k, v in batch.items()}\n",
    "        optimizer.zero_grad()\n",
    "        outputs = model(**batch)\n",
    "        loss = outputs.loss\n",
    "        loss.backward()\n",
    "        optimizer.step()\n",
    "        scheduler.step()\n",
    "        total_loss += loss.item()\n",
    "        train_loop.set_postfix(loss=loss.item())\n",
    "\n",
    "    avg_train_loss = total_loss / len(train_loader)\n",
    "\n",
    "    # Validation\n",
    "    model.eval()\n",
    "    all_preds, all_probs, all_labels = [], [], []\n",
    "    val_loop = tqdm(val_loader, desc=' Validating', leave=False)\n",
    "    with torch.no_grad():\n",
    "        for batch in val_loop:\n",
    "            batch = {k: v.to(device) for k, v in batch.items()}\n",
    "            labels = batch['labels'].cpu().numpy()\n",
    "            logits = model(\n",
    "                input_ids=batch['input_ids'],\n",
    "                attention_mask=batch['attention_mask']\n",
    "            ).logits\n",
    "            probs = F.softmax(logits, dim=1)[:, 1].cpu().numpy()\n",
    "            preds = np.argmax(logits.cpu().numpy(), axis=1)\n",
    "\n",
    "            all_labels.extend(labels)\n",
    "            all_preds.extend(preds)\n",
    "            all_probs.extend(probs)\n",
    "\n",
    "    acc  = accuracy_score(all_labels, all_preds)\n",
    "    prec = precision_score(all_labels, all_preds)\n",
    "    auc  = roc_auc_score(all_labels, all_probs)\n",
    "    fpr, tpr, _ = roc_curve(all_labels, all_probs)\n",
    "    eer = fpr[np.nanargmin(np.abs(1 - tpr - fpr))]\n",
    "\n",
    "    print(f\" Epoch {epoch} — Train Loss: {avg_train_loss:.4f} | \"\n",
    "          f\"Val Acc: {acc:.4f}, Prec: {prec:.4f}, AUC: {auc:.4f}, EER: {eer:.4f}\")\n",
    "\n",
    "    # Check for early stopping\n",
    "    if auc > best_auc:\n",
    "        best_auc = auc\n",
    "        epochs_without_improve = 0\n",
    "        save_model(model, epoch)\n",
    "    else:\n",
    "        epochs_without_improve += 1\n",
    "        print(f\" No improvement. Patience: {epochs_without_improve}/{early_stop_patience}\")\n",
    "\n",
    "    if epochs_without_improve >= early_stop_patience:\n",
    "        print(\" Early stopping triggered.\")\n",
    "        break\n"
   ]
  },
  {
   "cell_type": "code",
   "execution_count": 18,
   "metadata": {
    "execution": {
     "iopub.execute_input": "2025-05-04T13:09:42.828186Z",
     "iopub.status.busy": "2025-05-04T13:09:42.827598Z",
     "iopub.status.idle": "2025-05-04T13:11:41.705191Z",
     "shell.execute_reply": "2025-05-04T13:11:41.704220Z",
     "shell.execute_reply.started": "2025-05-04T13:09:42.828163Z"
    }
   },
   "outputs": [
    {
     "name": "stderr",
     "output_type": "stream",
     "text": [
      "Some weights of BertForSequenceClassification were not initialized from the model checkpoint at bert-base-cased and are newly initialized: ['classifier.bias', 'classifier.weight']\n",
      "You should probably TRAIN this model on a down-stream task to be able to use it for predictions and inference.\n",
      "/tmp/ipykernel_233/2899993643.py:6: FutureWarning: You are using `torch.load` with `weights_only=False` (the current default value), which uses the default pickle module implicitly. It is possible to construct malicious pickle data which will execute arbitrary code during unpickling (See https://github.com/pytorch/pytorch/blob/main/SECURITY.md#untrusted-models for more details). In a future release, the default value for `weights_only` will be flipped to `True`. This limits the functions that could be executed during unpickling. Arbitrary objects will no longer be allowed to be loaded via this mode unless they are explicitly allowlisted by the user via `torch.serialization.add_safe_globals`. We recommend you start setting `weights_only=True` for any use case where you don't have full control of the loaded file. Please open an issue on GitHub for any issues related to this experimental feature.\n",
      "  model.load_state_dict(torch.load(model_path))\n"
     ]
    },
    {
     "name": "stdout",
     "output_type": "stream",
     "text": [
      "Model loaded from ./saved_model/model_epoch_1.bin\n"
     ]
    },
    {
     "name": "stderr",
     "output_type": "stream",
     "text": [
      "Evaluating: 100%|██████████| 978/978 [01:58<00:00,  8.29it/s]"
     ]
    },
    {
     "name": "stdout",
     "output_type": "stream",
     "text": [
      "Test — Accuracy: 0.9995, Precision: 0.9998, AUC: 1.0000, EER: 0.0003\n"
     ]
    },
    {
     "name": "stderr",
     "output_type": "stream",
     "text": [
      "\n"
     ]
    }
   ],
   "source": [
    "from tqdm import tqdm  # Add this import\n",
    "\n",
    "# Function to load the model from a saved file\n",
    "def load_model(epoch, model, output_dir='./saved_model'):\n",
    "    model_path = os.path.join(output_dir, f\"model_epoch_{epoch}.bin\")\n",
    "    model.load_state_dict(torch.load(model_path))\n",
    "    print(f\"Model loaded from {model_path}\")\n",
    "    return model\n",
    "\n",
    "# Specify the epoch for the saved model you want to load\n",
    "epoch_to_test = 1\n",
    "\n",
    "# Load the model for the nth epoch\n",
    "model = BertForSequenceClassification.from_pretrained('bert-base-cased', num_labels=2).to(device)\n",
    "model = load_model(epoch_to_test, model)\n",
    "\n",
    "# Test the loaded model\n",
    "model.eval()\n",
    "all_preds, all_probs, all_labels = [], [], []\n",
    "with torch.no_grad():\n",
    "    for batch in tqdm(val_loader, desc=\"Evaluating\"):  # Add tqdm here\n",
    "        batch = {k: v.to(device) for k, v in batch.items()}\n",
    "        labels = batch['labels'].cpu().numpy()\n",
    "        logits = model(\n",
    "            input_ids=batch['input_ids'],\n",
    "            attention_mask=batch['attention_mask']\n",
    "        ).logits\n",
    "        probs = F.softmax(logits, dim=1)[:, 1].cpu().numpy()\n",
    "        preds = np.argmax(logits.cpu().numpy(), axis=1)\n",
    "\n",
    "        all_labels.extend(labels)\n",
    "        all_preds.extend(preds)\n",
    "        all_probs.extend(probs)\n",
    "\n",
    "# Metrics calculation\n",
    "acc = accuracy_score(all_labels, all_preds)\n",
    "prec = precision_score(all_labels, all_preds)\n",
    "auc = roc_auc_score(all_labels, all_probs)\n",
    "fpr, tpr, _ = roc_curve(all_labels, all_probs)\n",
    "eer = fpr[np.nanargmin(np.abs(1 - tpr - fpr))]\n",
    "\n",
    "# Print metrics\n",
    "print(f\"Test — Accuracy: {acc:.4f}, Precision: {prec:.4f}, AUC: {auc:.4f}, EER: {eer:.4f}\")\n"
   ]
  }
 ],
 "metadata": {
  "kaggle": {
   "accelerator": "gpu",
   "dataSources": [
    {
     "datasetId": 7319384,
     "sourceId": 11662925,
     "sourceType": "datasetVersion"
    }
   ],
   "dockerImageVersionId": 31011,
   "isGpuEnabled": true,
   "isInternetEnabled": true,
   "language": "python",
   "sourceType": "notebook"
  },
  "kernelspec": {
   "display_name": "Python 3 (ipykernel)",
   "language": "python",
   "name": "python3"
  },
  "language_info": {
   "codemirror_mode": {
    "name": "ipython",
    "version": 3
   },
   "file_extension": ".py",
   "mimetype": "text/x-python",
   "name": "python",
   "nbconvert_exporter": "python",
   "pygments_lexer": "ipython3",
   "version": "3.12.4"
  }
 },
 "nbformat": 4,
 "nbformat_minor": 4
}
